{
 "cells": [
  {
   "cell_type": "code",
   "execution_count": null,
   "metadata": {},
   "outputs": [],
   "source": [
    "#check that the notebook is pointing to your anaconda version, not the master Anaconda folder\n",
    "#import sys\n",
    "#sys.path"
   ]
  },
  {
   "cell_type": "markdown",
   "metadata": {},
   "source": [
    "## A note on adjusting the rules\n",
    "In order to use your new rules, you have to restart the kernel and re-import the libraries every time you add rules to the knowledge_base files."
   ]
  },
  {
   "cell_type": "code",
   "execution_count": null,
   "metadata": {},
   "outputs": [],
   "source": [
    "import medspacy\n",
    "import spacy\n",
    "import cov_bsv\n",
    "#from cov_bsv import visualize_doc\n",
    "from medspacy.visualization import visualize_ent, visualize_dep\n",
    "from medspacy.ner import TargetMatcher, TargetRule\n",
    "from spacy import displacy\n",
    "from spacy.pipeline import EntityRuler\n",
    "\n",
    "import warnings\n",
    "warnings.filterwarnings(\"ignore\")"
   ]
  },
  {
   "cell_type": "code",
   "execution_count": null,
   "metadata": {
    "scrolled": true
   },
   "outputs": [],
   "source": [
    "#text = []\n",
    "with open(\"O:\\\\VINCI_COVIDNLP\\\\va_external_c19_tests\\\\examples\\\\outside_test.txt\", 'r') as reader:\n",
    "    text = reader.read()\n",
    "    #for line in reader:\n",
    "     #   text.append(line)\n",
    "\n",
    "#print(type(text))\n",
    "#print(text)"
   ]
  },
  {
   "cell_type": "code",
   "execution_count": null,
   "metadata": {
    "scrolled": true
   },
   "outputs": [],
   "source": [
    "#nlp = cov_bsv.load(model=\"en_core_web_sm\", disable=['document_classifier','ner'], load_rules=True)\n",
    "#nlp = cov_bsv.load(enable=['tagger','parser','concept_tagger','target_matcher','sectionizer'])\n",
    "#nlp = cov_bsv.load(enable=['tagger','parser','concept_tagger','target_matcher','sectionizer'])\n",
    "nlp = cov_bsv.load()\n",
    "nlp.pipeline"
   ]
  },
  {
   "cell_type": "code",
   "execution_count": null,
   "metadata": {},
   "outputs": [],
   "source": [
    "text2 = \"Patient reports that they had a Positive COVID-19 Lab test done at a location other than this VA. Date: March 6, 2021    Location: CVS Browns Mills Nj\"\n",
    "\n",
    "doc = nlp(text)\n",
    "doc2 = nlp(text2)"
   ]
  },
  {
   "cell_type": "markdown",
   "metadata": {},
   "source": [
    "### What does the cov_bsv pipeline do out of the box?"
   ]
  },
  {
   "cell_type": "code",
   "execution_count": null,
   "metadata": {},
   "outputs": [],
   "source": [
    "displacy.render(doc2, style=\"ent\")"
   ]
  },
  {
   "cell_type": "code",
   "execution_count": null,
   "metadata": {},
   "outputs": [],
   "source": [
    "cov_bsv.visualize_doc(doc2)"
   ]
  },
  {
   "cell_type": "markdown",
   "metadata": {},
   "source": [
    "## Exploring Target Matcher and Rules\n",
    "\n",
    "### From the util.py file...\n",
    "- concept_tagger: Assigns a semantic tag in a custom attribute \"token._.concept_tag\"\n",
    "to each Token in a Doc, which helps with concept extraction and normalization.\n",
    "Concept tag rules are defined in cov_bsv.knowledge_base.concept_tag_rules.\n",
    "- target_matcher: Extracts spans to doc.ents using extended rule-based matching.\n",
    "Target rules are defined in cov_bsv.knowledge_base.target_rules."
   ]
  },
  {
   "cell_type": "markdown",
   "metadata": {},
   "source": [
    "## Outside Locations"
   ]
  },
  {
   "cell_type": "code",
   "execution_count": null,
   "metadata": {},
   "outputs": [],
   "source": [
    "#nlp2 = cov_bsv.load(disable=['concept_tagger','target_matcher','sectionizer','ner','document_classifier'], load_rules=False)\n",
    "#nlp2=cov_bsv.load(model='en_core_web_md',enable=['ner'])\n",
    "nlp2 = cov_bsv.load(disable=[\"context\",'document_classifier', \"postprocessor\"])\n",
    "\n",
    "nlp2.pipeline"
   ]
  },
  {
   "cell_type": "markdown",
   "metadata": {},
   "source": [
    "### From the spacy docs\n",
    "The entity ruler is designed to add to the ner. If the entity ruler is added before the ner component, the entity recognizer will respect the existing entity spans and adjust its predictions around it, significantly improving accuracy. If added after the ner component, the entity ruler will only add spans to the doc.ents if they don't overlap with existing entities predicted by the model. \n",
    "\n",
    "TL;DR\n",
    "- Entity ruler first: manual labels take precedence\n",
    "- Ner first: model labels take precedence"
   ]
  },
  {
   "cell_type": "code",
   "execution_count": null,
   "metadata": {},
   "outputs": [],
   "source": [
    "ruler = EntityRuler(nlp2)\n",
    "patterns = [\n",
    "    {'label': \"ORG\", \"pattern\": \"VA\"},\n",
    "    {'label': \"ORG\", \"pattern\": \"CVS\"},\n",
    "    {'label': \"PRODUCT\", \"pattern\": [{\"LOWER\":\"cprs\"}]},\n",
    "    {'label': \"PRODUCT\", \"pattern\": [{\"LOWER\":\"epic\", \"OP\": \"?\"}, {\"LOWER\":\"ehr\"}]},\n",
    "    {\"label\": \"DATE\", \"pattern\": [{\"LOWER\": {\"REGEX\": \"\\d{1,4}(\\\\|-|/)\\d{1,2}(\\\\|-|/)\\d{1,4}$\"}}]},\n",
    "    {\"label\": \"DATE\", \"pattern\":[{\"LOWER\": \"on\"},{\"LOWER\": {\"REGEX\": \"\\d{1,2}(\\\\|-|/)\\d{1,2}$\"}}]},\n",
    "    {\"label\": \"DATE\",\"pattern\":[{\"LOWER\": {\"IN\": [\"january\",\"february\",\"march\",\"april\",\"may\",\"june\",\"july\",\"august\",\"september\"\n",
    "                                         ,\"october\",\"november\",\"december\",\"jan\",\"feb\",\"mar\",\"apr\",\"may\",\"jun\",\"jul\"\n",
    "                                         ,\"aug\",\"sept\",\"oct\",\"nov\",\"dec\"]}}\n",
    "                       ,{\"IS_DIGIT\": True, \"LENGTH\": 2}\n",
    "                       ,{\"ORTH\": \",\", \"OP\": \"?\"}\n",
    "                       ,{\"IS_DIGIT\": True, \"LENGTH\": 4, \"OP\": \"?\"}]}, #when there is a space between the day and year\n",
    "    {\"label\": \"DATE\",\"pattern\":[{\"LOWER\": {\"IN\": [\"january\",\"february\",\"march\",\"april\",\"may\",\"june\",\"july\",\"august\",\"september\"\n",
    "                                         ,\"october\",\"november\",\"december\",\"jan\",\"feb\",\"mar\",\"apr\",\"may\",\"jun\",\"jul\"\n",
    "                                         ,\"aug\",\"sept\",\"oct\",\"nov\",\"dec\"]}}\n",
    "                       ,{\"LOWER\": {\"REGEX\": \"\\d{1,2},\\d{2,4}\"}}]}, #when there is no space after the comma\n",
    "\n",
    "    {\"label\": \"DATE\", \"pattern\":[{\"IS_DIGIT\": True, \"LENGTH\": 2}\n",
    "                      ,{\"ORTH\": {\"IN\": [\"-\",\"/\"]}}\n",
    "                      ,{\"IS_DIGIT\": True, \"LENGTH\": 2}\n",
    "                      ,{\"ORTH\": {\"IN\": [\"-\",\"/\"]}}\n",
    "                      ,{\"IS_DIGIT\": True, \"LENGTH\": 4}]},\n",
    "    {\"label\": \"DATE\", \"pattern\":[{\"IS_DIGIT\": True, \"LENGTH\": 2}\n",
    "                      ,{\"ORTH\": {\"IN\": [\"-\",\"/\"]}}\n",
    "                      ,{\"IS_DIGIT\": True, \"LENGTH\": 2}\n",
    "                      ,{\"ORTH\": {\"IN\": [\"-\",\"/\"]}}\n",
    "                      ,{\"IS_DIGIT\": True, \"LENGTH\": 2}]},\n",
    "    {\"label\": \"DATE\", \"pattern\":[{\"IS_DIGIT\": True, \"LENGTH\": 4}\n",
    "                      ,{\"ORTH\": {\"IN\": [\"-\",\"/\"]}}\n",
    "                      ,{\"IS_DIGIT\": True, \"LENGTH\": 2}\n",
    "                      ,{\"ORTH\": {\"IN\": [\"-\",\"/\"]}}\n",
    "                      ,{\"IS_DIGIT\": True, \"LENGTH\": 2}]},\n",
    "    {\"label\":\"DATETIME\", \"pattern\":[{\"LOWER\": {\"REGEX\": \"\\d{1,2}(\\\\|-|/)\\d{1,2}@\\d{2,4}$\"}}]}\n",
    "]\n",
    "ruler.add_patterns(patterns)\n",
    "nlp2.add_pipe(ruler, before=\"ner\")"
   ]
  },
  {
   "cell_type": "code",
   "execution_count": null,
   "metadata": {},
   "outputs": [],
   "source": [
    "nlp2.pipeline"
   ]
  },
  {
   "cell_type": "code",
   "execution_count": null,
   "metadata": {},
   "outputs": [],
   "source": [
    "doc = nlp2(text)"
   ]
  },
  {
   "cell_type": "code",
   "execution_count": null,
   "metadata": {},
   "outputs": [],
   "source": [
    "displacy.render(doc, style=\"ent\")"
   ]
  },
  {
   "cell_type": "markdown",
   "metadata": {},
   "source": [
    "### Example of the difference between the default spaCy and the medspaCy tokenizers"
   ]
  },
  {
   "cell_type": "code",
   "execution_count": null,
   "metadata": {},
   "outputs": [],
   "source": [
    "print(nlp.tokenizer)"
   ]
  },
  {
   "cell_type": "code",
   "execution_count": null,
   "metadata": {},
   "outputs": [],
   "source": [
    "from medspacy.custom_tokenizer import create_medspacy_tokenizer\n",
    "\n",
    "nlp = spacy.blank(\"en\")\n",
    "\n",
    "medspacy_tokenizer = create_medspacy_tokenizer(nlp)\n",
    "default_tokenizer = nlp.tokenizer\n",
    "\n",
    "example = r'Last Tuesday 2/23' #r'at non VA facility.   Reports'#r'December(23rd)' #r'10-18-20' #r'Pt c/o n;v;d h/o chf+cp'\n",
    "\n",
    "print(\"spacy tokenizer:\")\n",
    "print(list(default_tokenizer(example)))\n",
    "print('\\n')\n",
    "print(\"medspacy tokenizer:\")\n",
    "print(list(medspacy_tokenizer(example)))\n",
    "#for ent in doc.ents:\n",
    "    #print(ent.text, ent.label_, sep=\" -> \")"
   ]
  },
  {
   "cell_type": "code",
   "execution_count": null,
   "metadata": {},
   "outputs": [],
   "source": []
  }
 ],
 "metadata": {
  "kernelspec": {
   "display_name": "Python 3",
   "language": "python",
   "name": "python3"
  },
  "language_info": {
   "codemirror_mode": {
    "name": "ipython",
    "version": 3
   },
   "file_extension": ".py",
   "mimetype": "text/x-python",
   "name": "python",
   "nbconvert_exporter": "python",
   "pygments_lexer": "ipython3",
   "version": "3.8.5"
  }
 },
 "nbformat": 4,
 "nbformat_minor": 4
}
