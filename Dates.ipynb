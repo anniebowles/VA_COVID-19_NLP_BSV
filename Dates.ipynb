{
 "cells": [
  {
   "cell_type": "code",
   "execution_count": 21,
   "metadata": {},
   "outputs": [],
   "source": [
    "#check that the notebook is pointing to your anaconda version, not the master Anaconda folder\n",
    "#import sys\n",
    "#sys.path"
   ]
  },
  {
   "cell_type": "markdown",
   "metadata": {},
   "source": [
    "## A note on adjusting the rules\n",
    "In order to use your new rules, you have to restart the kernel and re-import the libraries every time you add rules to the knowledge_base files."
   ]
  },
  {
   "cell_type": "code",
   "execution_count": 1,
   "metadata": {},
   "outputs": [],
   "source": [
    "import medspacy\n",
    "import spacy\n",
    "import cov_bsv\n",
    "#from cov_bsv import visualize_doc\n",
    "from medspacy.visualization import visualize_ent\n",
    "from medspacy.ner import TargetMatcher, TargetRule\n",
    "from spacy import displacy\n",
    "\n",
    "import warnings\n",
    "warnings.filterwarnings(\"ignore\")"
   ]
  },
  {
   "cell_type": "code",
   "execution_count": 2,
   "metadata": {
    "scrolled": true
   },
   "outputs": [],
   "source": [
    "with open(\"O:\\\\VINCI_COVIDNLP\\\\va_external_c19_tests\\\\examples\\\\outside_test.txt\", 'r') as reader:\n",
    "    text = reader.read()\n",
    "\n",
    "#print(type(text))\n",
    "#print(text)"
   ]
  },
  {
   "cell_type": "code",
   "execution_count": 3,
   "metadata": {},
   "outputs": [
    {
     "data": {
      "text/plain": [
       "[('tagger', <spacy.pipeline.pipes.Tagger at 0x1f121d76da0>),\n",
       " ('parser', <spacy.pipeline.pipes.DependencyParser at 0x1f121d6f4c8>),\n",
       " ('sectionizer',\n",
       "  <medspacy.section_detection.sectionizer.Sectionizer at 0x1f12185ce80>),\n",
       " ('concept_tagger',\n",
       "  <medspacy.target_matcher.concept_tagger.ConceptTagger at 0x1f12197cb00>),\n",
       " ('target_matcher',\n",
       "  <medspacy.target_matcher.target_matcher.TargetMatcher at 0x1f121bc2e48>),\n",
       " ('ner', <spacy.pipeline.pipes.EntityRecognizer at 0x1f121d6f528>),\n",
       " ('context',\n",
       "  <medspacy.context.context_component.ConTextComponent at 0x1f121c51ac8>)]"
      ]
     },
     "execution_count": 3,
     "metadata": {},
     "output_type": "execute_result"
    }
   ],
   "source": [
    "nlp = cov_bsv.load(disable=['document_classifier', \"postprocessor\"])\n",
    "#disbled = nlp.disable_pipes(\"ner\")\n",
    "nlp.pipeline"
   ]
  },
  {
   "cell_type": "markdown",
   "metadata": {},
   "source": [
    "## Exploring Target Matcher and Rules\n",
    "\n",
    "### From the util.py file...\n",
    "- concept_tagger: Assigns a semantic tag in a custom attribute \"token._.concept_tag\"\n",
    "to each Token in a Doc, which helps with concept extraction and normalization.\n",
    "Concept tag rules are defined in cov_bsv.knowledge_base.concept_tag_rules.\n",
    "- target_matcher: Extracts spans to doc.ents using extended rule-based matching.\n",
    "Target rules are defined in cov_bsv.knowledge_base.target_rules."
   ]
  },
  {
   "cell_type": "markdown",
   "metadata": {},
   "source": [
    "## Dates\n",
    "Using the ner model, which comes after the 'concept_tagger', 'target_matcher', and an \"entity ruler\" with manual date patterns."
   ]
  },
  {
   "cell_type": "code",
   "execution_count": 12,
   "metadata": {},
   "outputs": [
    {
     "name": "stdout",
     "output_type": "stream",
     "text": [
      "Absolute or relative dates or periods\n"
     ]
    }
   ],
   "source": [
    "print(spacy.explain(\"DATE\"))"
   ]
  },
  {
   "cell_type": "markdown",
   "metadata": {},
   "source": [
    "## Using entity ruler"
   ]
  },
  {
   "cell_type": "code",
   "execution_count": 4,
   "metadata": {},
   "outputs": [],
   "source": [
    "from spacy.pipeline import EntityRuler"
   ]
  },
  {
   "cell_type": "markdown",
   "metadata": {},
   "source": [
    "### From the spacy docs\n",
    "The entity ruler is designed to add to the ner. If the entity ruler is added before the ner component, the entity recognizer will respect the existing entity spans and adjust its predictions around it, significantly improving accuracy. If added after the ner component, the entity ruler will only add spans to the doc.ents if they don't overlap with existing entities predicted by the model. \n",
    "\n",
    "TL;DR\n",
    "- Entity ruler first: manual labels take precidence\n",
    "- Ner first: model labels take precidence"
   ]
  },
  {
   "cell_type": "code",
   "execution_count": 5,
   "metadata": {},
   "outputs": [],
   "source": [
    "ruler = EntityRuler(nlp)\n",
    "patterns = [\n",
    "    {'label': \"ORG\", \"pattern\": \"VA\"},\n",
    "    {'label': \"ORG\", \"pattern\": [{\"LOWER\":\"non\"}, {\"ORTH\":\"-\", \"OP\": \"?\"}, {\"LOWER\":\"va\"}, {\"LOWER\":\"facility\"}]},\n",
    "    {'label': \"ORG\", \"pattern\": \"CVS\"},\n",
    "    {'label': \"PRODUCT\", \"pattern\": [{\"LOWER\":\"cprs\"}]},\n",
    "    {'label': \"PRODUCT\", \"pattern\": [{\"LOWER\":\"epic\", \"OP\": \"?\"}, {\"LOWER\":\"ehr\"}]},\n",
    "    {\"label\": \"DATE\", \"pattern\": [{\"LOWER\": {\"REGEX\": \"\\d{1,4}(\\\\|-|/)\\d{1,2}(\\\\|-|/)\\d{1,4}$\"}}]},\n",
    "    {\"label\": \"DATE\", \"pattern\":[{\"LOWER\": \"on\"},{\"LOWER\": {\"REGEX\": \"\\d{1,2}(\\\\|-|/)\\d{1,2}$\"}}]},\n",
    "    {\"label\": \"DATE\",\"pattern\":[{\"LOWER\": {\"IN\": [\"january\",\"february\",\"march\",\"april\",\"may\",\"june\",\"july\",\"august\",\"september\"\n",
    "                                         ,\"october\",\"november\",\"december\",\"jan\",\"feb\",\"mar\",\"apr\",\"may\",\"jun\",\"jul\"\n",
    "                                         ,\"aug\",\"sept\",\"oct\",\"nov\",\"dec\"]}}\n",
    "                       ,{\"IS_DIGIT\": True, \"LENGTH\": 2}\n",
    "                       ,{\"ORTH\": \",\", \"OP\": \"?\"}\n",
    "                       ,{\"IS_DIGIT\": True, \"LENGTH\": 4, \"OP\": \"?\"}]}, #when there is a space between the day and year\n",
    "    {\"label\": \"DATE\",\"pattern\":[{\"LOWER\": {\"IN\": [\"january\",\"february\",\"march\",\"april\",\"may\",\"june\",\"july\",\"august\",\"september\"\n",
    "                                         ,\"october\",\"november\",\"december\",\"jan\",\"feb\",\"mar\",\"apr\",\"may\",\"jun\",\"jul\"\n",
    "                                         ,\"aug\",\"sept\",\"oct\",\"nov\",\"dec\"]}}\n",
    "                       ,{\"LOWER\": {\"REGEX\": \"\\d{1,2},\\d{2,4}\"}}]}, #when there is no space after the comma\n",
    "\n",
    "    {\"label\": \"DATE\", \"pattern\":[{\"IS_DIGIT\": True, \"LENGTH\": 2}\n",
    "                      ,{\"ORTH\": {\"IN\": [\"-\",\"/\"]}}\n",
    "                      ,{\"IS_DIGIT\": True, \"LENGTH\": 2}\n",
    "                      ,{\"ORTH\": {\"IN\": [\"-\",\"/\"]}}\n",
    "                      ,{\"IS_DIGIT\": True, \"LENGTH\": 4}]},\n",
    "    {\"label\": \"DATE\", \"pattern\":[{\"IS_DIGIT\": True, \"LENGTH\": 2}\n",
    "                      ,{\"ORTH\": {\"IN\": [\"-\",\"/\"]}}\n",
    "                      ,{\"IS_DIGIT\": True, \"LENGTH\": 2}\n",
    "                      ,{\"ORTH\": {\"IN\": [\"-\",\"/\"]}}\n",
    "                      ,{\"IS_DIGIT\": True, \"LENGTH\": 2}]},\n",
    "    {\"label\": \"DATE\", \"pattern\":[{\"IS_DIGIT\": True, \"LENGTH\": 4}\n",
    "                      ,{\"ORTH\": {\"IN\": [\"-\",\"/\"]}}\n",
    "                      ,{\"IS_DIGIT\": True, \"LENGTH\": 2}\n",
    "                      ,{\"ORTH\": {\"IN\": [\"-\",\"/\"]}}\n",
    "                      ,{\"IS_DIGIT\": True, \"LENGTH\": 2}]},\n",
    "    {\"label\":\"DATETIME\", \"pattern\":[{\"LOWER\": {\"REGEX\": \"\\d{1,2}(\\\\|-|/)\\d{1,2}@\\d{2,4}$\"}}]}\n",
    "]\n",
    "ruler.add_patterns(patterns)\n",
    "nlp.add_pipe(ruler, before=\"ner\")"
   ]
  },
  {
   "cell_type": "code",
   "execution_count": 6,
   "metadata": {},
   "outputs": [
    {
     "data": {
      "text/plain": [
       "[('tagger', <spacy.pipeline.pipes.Tagger at 0x1f121d76da0>),\n",
       " ('parser', <spacy.pipeline.pipes.DependencyParser at 0x1f121d6f4c8>),\n",
       " ('sectionizer',\n",
       "  <medspacy.section_detection.sectionizer.Sectionizer at 0x1f12185ce80>),\n",
       " ('concept_tagger',\n",
       "  <medspacy.target_matcher.concept_tagger.ConceptTagger at 0x1f12197cb00>),\n",
       " ('target_matcher',\n",
       "  <medspacy.target_matcher.target_matcher.TargetMatcher at 0x1f121bc2e48>),\n",
       " ('entity_ruler', <spacy.pipeline.entityruler.EntityRuler at 0x1f12cdde278>),\n",
       " ('ner', <spacy.pipeline.pipes.EntityRecognizer at 0x1f121d6f528>),\n",
       " ('context',\n",
       "  <medspacy.context.context_component.ConTextComponent at 0x1f121c51ac8>)]"
      ]
     },
     "execution_count": 6,
     "metadata": {},
     "output_type": "execute_result"
    }
   ],
   "source": [
    "nlp.pipeline"
   ]
  },
  {
   "cell_type": "code",
   "execution_count": 7,
   "metadata": {},
   "outputs": [],
   "source": [
    "dates = \"\"\"435-908-7890\n",
    "5/5/2020\n",
    "March 23, 2020\n",
    "Apr 26,2020\n",
    "Jul 22 \n",
    "3/23/20\n",
    "10-18-20\n",
    "Covid negative 4/18@1357\n",
    "diagnosed with covid on 4/14 at non VA facility\n",
    "Covid negative on 4/18 at non-va hospital\"\"\""
   ]
  },
  {
   "cell_type": "code",
   "execution_count": 8,
   "metadata": {},
   "outputs": [
    {
     "data": {
      "text/html": [
       "<h2>Document Classification: None</h2><div class=\"entities\" style=\"line-height: 2.5; direction: ltr\">\n",
       "<mark class=\"entity\" style=\"background: #d62728; padding: 0.45em 0.6em; margin: 0 0.25em; line-height: 1; border-radius: 0.35em;\">\n",
       "    435\n",
       "    <span style=\"font-size: 0.8em; font-weight: bold; line-height: 1; border-radius: 0.35em; text-transform: uppercase; vertical-align: middle; margin-left: 0.5rem\">CARDINAL</span>\n",
       "</mark>\n",
       "-908-7890</br>\n",
       "<mark class=\"entity\" style=\"background: #ff7f0e; padding: 0.45em 0.6em; margin: 0 0.25em; line-height: 1; border-radius: 0.35em;\">\n",
       "    5/5/2020\n",
       "    <span style=\"font-size: 0.8em; font-weight: bold; line-height: 1; border-radius: 0.35em; text-transform: uppercase; vertical-align: middle; margin-left: 0.5rem\">DATE</span>\n",
       "</mark>\n",
       "</br>\n",
       "<mark class=\"entity\" style=\"background: #ff7f0e; padding: 0.45em 0.6em; margin: 0 0.25em; line-height: 1; border-radius: 0.35em;\">\n",
       "    March 23, 2020\n",
       "    <span style=\"font-size: 0.8em; font-weight: bold; line-height: 1; border-radius: 0.35em; text-transform: uppercase; vertical-align: middle; margin-left: 0.5rem\">DATE</span>\n",
       "</mark>\n",
       "</br>\n",
       "<mark class=\"entity\" style=\"background: #ff7f0e; padding: 0.45em 0.6em; margin: 0 0.25em; line-height: 1; border-radius: 0.35em;\">\n",
       "    Apr 26,2020\n",
       "    <span style=\"font-size: 0.8em; font-weight: bold; line-height: 1; border-radius: 0.35em; text-transform: uppercase; vertical-align: middle; margin-left: 0.5rem\">DATE</span>\n",
       "</mark>\n",
       "</br>\n",
       "<mark class=\"entity\" style=\"background: #ff7f0e; padding: 0.45em 0.6em; margin: 0 0.25em; line-height: 1; border-radius: 0.35em;\">\n",
       "    Jul 22\n",
       "    <span style=\"font-size: 0.8em; font-weight: bold; line-height: 1; border-radius: 0.35em; text-transform: uppercase; vertical-align: middle; margin-left: 0.5rem\">DATE</span>\n",
       "</mark>\n",
       " </br>\n",
       "<mark class=\"entity\" style=\"background: #ff7f0e; padding: 0.45em 0.6em; margin: 0 0.25em; line-height: 1; border-radius: 0.35em;\">\n",
       "    3/23/20\n",
       "    <span style=\"font-size: 0.8em; font-weight: bold; line-height: 1; border-radius: 0.35em; text-transform: uppercase; vertical-align: middle; margin-left: 0.5rem\">DATE</span>\n",
       "</mark>\n",
       "</br>\n",
       "<mark class=\"entity\" style=\"background: #ff7f0e; padding: 0.45em 0.6em; margin: 0 0.25em; line-height: 1; border-radius: 0.35em;\">\n",
       "    10-18-20\n",
       "    <span style=\"font-size: 0.8em; font-weight: bold; line-height: 1; border-radius: 0.35em; text-transform: uppercase; vertical-align: middle; margin-left: 0.5rem\">DATE</span>\n",
       "</mark>\n",
       "</br>\n",
       "<mark class=\"entity\" style=\"background: #8c564b; padding: 0.45em 0.6em; margin: 0 0.25em; line-height: 1; border-radius: 0.35em;\">\n",
       "    Covid\n",
       "    <span style=\"font-size: 0.8em; font-weight: bold; line-height: 1; border-radius: 0.35em; text-transform: uppercase; vertical-align: middle; margin-left: 0.5rem\">COVID-19</span>\n",
       "</mark>\n",
       " \n",
       "<mark class=\"entity\" style=\"background: #1f77b4; padding: 0.45em 0.6em; margin: 0 0.25em; line-height: 1; border-radius: 0.35em;\">\n",
       "    negative\n",
       "    <span style=\"font-size: 0.8em; font-weight: bold; line-height: 1; border-radius: 0.35em; text-transform: uppercase; vertical-align: middle; margin-left: 0.5rem\">NEGATED_EXISTENCE</span>\n",
       "</mark>\n",
       " \n",
       "<mark class=\"entity\" style=\"background: #e377c2; padding: 0.45em 0.6em; margin: 0 0.25em; line-height: 1; border-radius: 0.35em;\">\n",
       "    4/18@1357\n",
       "    <span style=\"font-size: 0.8em; font-weight: bold; line-height: 1; border-radius: 0.35em; text-transform: uppercase; vertical-align: middle; margin-left: 0.5rem\">DATETIME</span>\n",
       "</mark>\n",
       "</br>\n",
       "<mark class=\"entity\" style=\"background: #2ca02c; padding: 0.45em 0.6em; margin: 0 0.25em; line-height: 1; border-radius: 0.35em;\">\n",
       "    diagnosed with\n",
       "    <span style=\"font-size: 0.8em; font-weight: bold; line-height: 1; border-radius: 0.35em; text-transform: uppercase; vertical-align: middle; margin-left: 0.5rem\">DEFINITE_POSITIVE_EXISTENCE</span>\n",
       "</mark>\n",
       " \n",
       "<mark class=\"entity\" style=\"background: #8c564b; padding: 0.45em 0.6em; margin: 0 0.25em; line-height: 1; border-radius: 0.35em;\">\n",
       "    covid\n",
       "    <span style=\"font-size: 0.8em; font-weight: bold; line-height: 1; border-radius: 0.35em; text-transform: uppercase; vertical-align: middle; margin-left: 0.5rem\">COVID-19</span>\n",
       "</mark>\n",
       " \n",
       "<mark class=\"entity\" style=\"background: #ff7f0e; padding: 0.45em 0.6em; margin: 0 0.25em; line-height: 1; border-radius: 0.35em;\">\n",
       "    on 4/14\n",
       "    <span style=\"font-size: 0.8em; font-weight: bold; line-height: 1; border-radius: 0.35em; text-transform: uppercase; vertical-align: middle; margin-left: 0.5rem\">DATE</span>\n",
       "</mark>\n",
       " at \n",
       "<mark class=\"entity\" style=\"background: #9467bd; padding: 0.45em 0.6em; margin: 0 0.25em; line-height: 1; border-radius: 0.35em;\">\n",
       "    non VA facility\n",
       "    <span style=\"font-size: 0.8em; font-weight: bold; line-height: 1; border-radius: 0.35em; text-transform: uppercase; vertical-align: middle; margin-left: 0.5rem\">EXTERNAL_LOCATION</span>\n",
       "</mark>\n",
       "</br>\n",
       "<mark class=\"entity\" style=\"background: #8c564b; padding: 0.45em 0.6em; margin: 0 0.25em; line-height: 1; border-radius: 0.35em;\">\n",
       "    Covid\n",
       "    <span style=\"font-size: 0.8em; font-weight: bold; line-height: 1; border-radius: 0.35em; text-transform: uppercase; vertical-align: middle; margin-left: 0.5rem\">COVID-19</span>\n",
       "</mark>\n",
       " \n",
       "<mark class=\"entity\" style=\"background: #1f77b4; padding: 0.45em 0.6em; margin: 0 0.25em; line-height: 1; border-radius: 0.35em;\">\n",
       "    negative\n",
       "    <span style=\"font-size: 0.8em; font-weight: bold; line-height: 1; border-radius: 0.35em; text-transform: uppercase; vertical-align: middle; margin-left: 0.5rem\">NEGATED_EXISTENCE</span>\n",
       "</mark>\n",
       " \n",
       "<mark class=\"entity\" style=\"background: #ff7f0e; padding: 0.45em 0.6em; margin: 0 0.25em; line-height: 1; border-radius: 0.35em;\">\n",
       "    on 4/18\n",
       "    <span style=\"font-size: 0.8em; font-weight: bold; line-height: 1; border-radius: 0.35em; text-transform: uppercase; vertical-align: middle; margin-left: 0.5rem\">DATE</span>\n",
       "</mark>\n",
       " at \n",
       "<mark class=\"entity\" style=\"background: #9467bd; padding: 0.45em 0.6em; margin: 0 0.25em; line-height: 1; border-radius: 0.35em;\">\n",
       "    non-va hospital\n",
       "    <span style=\"font-size: 0.8em; font-weight: bold; line-height: 1; border-radius: 0.35em; text-transform: uppercase; vertical-align: middle; margin-left: 0.5rem\">EXTERNAL_LOCATION</span>\n",
       "</mark>\n",
       "</div>"
      ],
      "text/plain": [
       "<IPython.core.display.HTML object>"
      ]
     },
     "metadata": {},
     "output_type": "display_data"
    }
   ],
   "source": [
    "doc = nlp(dates)\n",
    "cov_bsv.visualize_doc(doc)"
   ]
  },
  {
   "cell_type": "code",
   "execution_count": 9,
   "metadata": {},
   "outputs": [],
   "source": [
    "dates2 = \"\"\"\n",
    "    Positive COVID-19 Lab test done at a location other than this VA. Date: March 3, 2021 \n",
    "    Covid test from last week\n",
    "    tested covid (+) this morning\n",
    "    Negative COVID-19 Non-PCR Antigen Lab test done at a location other than this VA. Date: March 4, 2021 \n",
    "    he tested positive for covid at a community location 1 week ago\n",
    "    he reports had COVID on  2/8/2021, tested positive at an urgent care.\n",
    "    Testing Facility: LabCorp Test Date: Apr 14,2020 Result is by: Patient self-report COVID-19 lab test was positive\n",
    "\"\"\""
   ]
  },
  {
   "cell_type": "code",
   "execution_count": 10,
   "metadata": {},
   "outputs": [
    {
     "data": {
      "text/html": [
       "<h2>Document Classification: None</h2><div class=\"entities\" style=\"line-height: 2.5; direction: ltr\"></br>    \n",
       "<mark class=\"entity\" style=\"background: #2ca02c; padding: 0.45em 0.6em; margin: 0 0.25em; line-height: 1; border-radius: 0.35em;\">\n",
       "    Positive\n",
       "    <span style=\"font-size: 0.8em; font-weight: bold; line-height: 1; border-radius: 0.35em; text-transform: uppercase; vertical-align: middle; margin-left: 0.5rem\">DEFINITE_POSITIVE_EXISTENCE</span>\n",
       "</mark>\n",
       " \n",
       "<mark class=\"entity\" style=\"background: #9467bd; padding: 0.45em 0.6em; margin: 0 0.25em; line-height: 1; border-radius: 0.35em;\">\n",
       "    COVID-19 Lab test\n",
       "    <span style=\"font-size: 0.8em; font-weight: bold; line-height: 1; border-radius: 0.35em; text-transform: uppercase; vertical-align: middle; margin-left: 0.5rem\">COVID-19</span>\n",
       "</mark>\n",
       " done at \n",
       "<mark class=\"entity\" style=\"background: #d62728; padding: 0.45em 0.6em; margin: 0 0.25em; line-height: 1; border-radius: 0.35em;\">\n",
       "    a location other than this VA\n",
       "    <span style=\"font-size: 0.8em; font-weight: bold; line-height: 1; border-radius: 0.35em; text-transform: uppercase; vertical-align: middle; margin-left: 0.5rem\">EXTERNAL_LOCATION</span>\n",
       "</mark>\n",
       ". \n",
       "<mark class=\"entity\" style=\"background: #dee0e3; padding: 0.45em 0.6em; margin: 0 0.25em; line-height: 1; border-radius: 0.35em;\">\n",
       "    Date:\n",
       "    <span style=\"font-size: 0.8em; font-weight: bold; line-height: 1; border-radius: 0.35em; text-transform: uppercase; vertical-align: middle; margin-left: 0.5rem\"><< DATE >></span>\n",
       "</mark>\n",
       " \n",
       "<mark class=\"entity\" style=\"background: #ff7f0e; padding: 0.45em 0.6em; margin: 0 0.25em; line-height: 1; border-radius: 0.35em;\">\n",
       "    March 3, 2021 \n",
       "    \n",
       "    <span style=\"font-size: 0.8em; font-weight: bold; line-height: 1; border-radius: 0.35em; text-transform: uppercase; vertical-align: middle; margin-left: 0.5rem\">DATE</span>\n",
       "</mark>\n",
       "\n",
       "<mark class=\"entity\" style=\"background: #9467bd; padding: 0.45em 0.6em; margin: 0 0.25em; line-height: 1; border-radius: 0.35em;\">\n",
       "    Covid\n",
       "    <span style=\"font-size: 0.8em; font-weight: bold; line-height: 1; border-radius: 0.35em; text-transform: uppercase; vertical-align: middle; margin-left: 0.5rem\">COVID-19</span>\n",
       "</mark>\n",
       " test from \n",
       "<mark class=\"entity\" style=\"background: #ff7f0e; padding: 0.45em 0.6em; margin: 0 0.25em; line-height: 1; border-radius: 0.35em;\">\n",
       "    last week\n",
       "    <span style=\"font-size: 0.8em; font-weight: bold; line-height: 1; border-radius: 0.35em; text-transform: uppercase; vertical-align: middle; margin-left: 0.5rem\">DATE</span>\n",
       "</mark>\n",
       "</br>    tested \n",
       "<mark class=\"entity\" style=\"background: #9467bd; padding: 0.45em 0.6em; margin: 0 0.25em; line-height: 1; border-radius: 0.35em;\">\n",
       "    covid (+)\n",
       "    <span style=\"font-size: 0.8em; font-weight: bold; line-height: 1; border-radius: 0.35em; text-transform: uppercase; vertical-align: middle; margin-left: 0.5rem\">COVID-19</span>\n",
       "</mark>\n",
       " \n",
       "<mark class=\"entity\" style=\"background: #8c564b; padding: 0.45em 0.6em; margin: 0 0.25em; line-height: 1; border-radius: 0.35em;\">\n",
       "    this morning\n",
       "    <span style=\"font-size: 0.8em; font-weight: bold; line-height: 1; border-radius: 0.35em; text-transform: uppercase; vertical-align: middle; margin-left: 0.5rem\">TIME</span>\n",
       "</mark>\n",
       "</br>    \n",
       "<mark class=\"entity\" style=\"background: #1f77b4; padding: 0.45em 0.6em; margin: 0 0.25em; line-height: 1; border-radius: 0.35em;\">\n",
       "    Negative\n",
       "    <span style=\"font-size: 0.8em; font-weight: bold; line-height: 1; border-radius: 0.35em; text-transform: uppercase; vertical-align: middle; margin-left: 0.5rem\">NEGATED_EXISTENCE</span>\n",
       "</mark>\n",
       " \n",
       "<mark class=\"entity\" style=\"background: #9467bd; padding: 0.45em 0.6em; margin: 0 0.25em; line-height: 1; border-radius: 0.35em;\">\n",
       "    COVID-19\n",
       "    <span style=\"font-size: 0.8em; font-weight: bold; line-height: 1; border-radius: 0.35em; text-transform: uppercase; vertical-align: middle; margin-left: 0.5rem\">COVID-19</span>\n",
       "</mark>\n",
       " Non-PCR Antigen Lab test done at \n",
       "<mark class=\"entity\" style=\"background: #d62728; padding: 0.45em 0.6em; margin: 0 0.25em; line-height: 1; border-radius: 0.35em;\">\n",
       "    a location other than this VA\n",
       "    <span style=\"font-size: 0.8em; font-weight: bold; line-height: 1; border-radius: 0.35em; text-transform: uppercase; vertical-align: middle; margin-left: 0.5rem\">EXTERNAL_LOCATION</span>\n",
       "</mark>\n",
       ". \n",
       "<mark class=\"entity\" style=\"background: #dee0e3; padding: 0.45em 0.6em; margin: 0 0.25em; line-height: 1; border-radius: 0.35em;\">\n",
       "    Date:\n",
       "    <span style=\"font-size: 0.8em; font-weight: bold; line-height: 1; border-radius: 0.35em; text-transform: uppercase; vertical-align: middle; margin-left: 0.5rem\"><< DATE >></span>\n",
       "</mark>\n",
       " \n",
       "<mark class=\"entity\" style=\"background: #ff7f0e; padding: 0.45em 0.6em; margin: 0 0.25em; line-height: 1; border-radius: 0.35em;\">\n",
       "    March 4, 2021 \n",
       "    \n",
       "    <span style=\"font-size: 0.8em; font-weight: bold; line-height: 1; border-radius: 0.35em; text-transform: uppercase; vertical-align: middle; margin-left: 0.5rem\">DATE</span>\n",
       "</mark>\n",
       "he \n",
       "<mark class=\"entity\" style=\"background: #2ca02c; padding: 0.45em 0.6em; margin: 0 0.25em; line-height: 1; border-radius: 0.35em;\">\n",
       "    tested positive\n",
       "    <span style=\"font-size: 0.8em; font-weight: bold; line-height: 1; border-radius: 0.35em; text-transform: uppercase; vertical-align: middle; margin-left: 0.5rem\">DEFINITE_POSITIVE_EXISTENCE</span>\n",
       "</mark>\n",
       " for \n",
       "<mark class=\"entity\" style=\"background: #9467bd; padding: 0.45em 0.6em; margin: 0 0.25em; line-height: 1; border-radius: 0.35em;\">\n",
       "    covid\n",
       "    <span style=\"font-size: 0.8em; font-weight: bold; line-height: 1; border-radius: 0.35em; text-transform: uppercase; vertical-align: middle; margin-left: 0.5rem\">COVID-19</span>\n",
       "</mark>\n",
       " at a \n",
       "<mark class=\"entity\" style=\"background: #d62728; padding: 0.45em 0.6em; margin: 0 0.25em; line-height: 1; border-radius: 0.35em;\">\n",
       "    community location\n",
       "    <span style=\"font-size: 0.8em; font-weight: bold; line-height: 1; border-radius: 0.35em; text-transform: uppercase; vertical-align: middle; margin-left: 0.5rem\">EXTERNAL_LOCATION</span>\n",
       "</mark>\n",
       " \n",
       "<mark class=\"entity\" style=\"background: #ff7f0e; padding: 0.45em 0.6em; margin: 0 0.25em; line-height: 1; border-radius: 0.35em;\">\n",
       "    1 week ago\n",
       "    <span style=\"font-size: 0.8em; font-weight: bold; line-height: 1; border-radius: 0.35em; text-transform: uppercase; vertical-align: middle; margin-left: 0.5rem\">DATE</span>\n",
       "</mark>\n",
       "</br>    he reports had \n",
       "<mark class=\"entity\" style=\"background: #9467bd; padding: 0.45em 0.6em; margin: 0 0.25em; line-height: 1; border-radius: 0.35em;\">\n",
       "    COVID\n",
       "    <span style=\"font-size: 0.8em; font-weight: bold; line-height: 1; border-radius: 0.35em; text-transform: uppercase; vertical-align: middle; margin-left: 0.5rem\">COVID-19</span>\n",
       "</mark>\n",
       " on  \n",
       "<mark class=\"entity\" style=\"background: #ff7f0e; padding: 0.45em 0.6em; margin: 0 0.25em; line-height: 1; border-radius: 0.35em;\">\n",
       "    2/8/2021\n",
       "    <span style=\"font-size: 0.8em; font-weight: bold; line-height: 1; border-radius: 0.35em; text-transform: uppercase; vertical-align: middle; margin-left: 0.5rem\">DATE</span>\n",
       "</mark>\n",
       ", \n",
       "<mark class=\"entity\" style=\"background: #2ca02c; padding: 0.45em 0.6em; margin: 0 0.25em; line-height: 1; border-radius: 0.35em;\">\n",
       "    tested positive\n",
       "    <span style=\"font-size: 0.8em; font-weight: bold; line-height: 1; border-radius: 0.35em; text-transform: uppercase; vertical-align: middle; margin-left: 0.5rem\">DEFINITE_POSITIVE_EXISTENCE</span>\n",
       "</mark>\n",
       " at \n",
       "<mark class=\"entity\" style=\"background: #d62728; padding: 0.45em 0.6em; margin: 0 0.25em; line-height: 1; border-radius: 0.35em;\">\n",
       "    an urgent care\n",
       "    <span style=\"font-size: 0.8em; font-weight: bold; line-height: 1; border-radius: 0.35em; text-transform: uppercase; vertical-align: middle; margin-left: 0.5rem\">EXTERNAL_LOCATION</span>\n",
       "</mark>\n",
       ".</br>    Testing Facility: LabCorp \n",
       "<mark class=\"entity\" style=\"background: #dee0e3; padding: 0.45em 0.6em; margin: 0 0.25em; line-height: 1; border-radius: 0.35em;\">\n",
       "    Test Date:\n",
       "    <span style=\"font-size: 0.8em; font-weight: bold; line-height: 1; border-radius: 0.35em; text-transform: uppercase; vertical-align: middle; margin-left: 0.5rem\"><< DATE >></span>\n",
       "</mark>\n",
       " \n",
       "<mark class=\"entity\" style=\"background: #ff7f0e; padding: 0.45em 0.6em; margin: 0 0.25em; line-height: 1; border-radius: 0.35em;\">\n",
       "    Apr 14,2020\n",
       "    <span style=\"font-size: 0.8em; font-weight: bold; line-height: 1; border-radius: 0.35em; text-transform: uppercase; vertical-align: middle; margin-left: 0.5rem\">DATE</span>\n",
       "</mark>\n",
       " Result is by: Patient self-report \n",
       "<mark class=\"entity\" style=\"background: #9467bd; padding: 0.45em 0.6em; margin: 0 0.25em; line-height: 1; border-radius: 0.35em;\">\n",
       "    COVID-19 lab test\n",
       "    <span style=\"font-size: 0.8em; font-weight: bold; line-height: 1; border-radius: 0.35em; text-transform: uppercase; vertical-align: middle; margin-left: 0.5rem\">COVID-19</span>\n",
       "</mark>\n",
       " was \n",
       "<mark class=\"entity\" style=\"background: #2ca02c; padding: 0.45em 0.6em; margin: 0 0.25em; line-height: 1; border-radius: 0.35em;\">\n",
       "    positive\n",
       "    <span style=\"font-size: 0.8em; font-weight: bold; line-height: 1; border-radius: 0.35em; text-transform: uppercase; vertical-align: middle; margin-left: 0.5rem\">DEFINITE_POSITIVE_EXISTENCE</span>\n",
       "</mark>\n",
       "\n",
       "</div>"
      ],
      "text/plain": [
       "<IPython.core.display.HTML object>"
      ]
     },
     "metadata": {},
     "output_type": "display_data"
    }
   ],
   "source": [
    "doc = nlp(dates2)\n",
    "cov_bsv.visualize_doc(doc)"
   ]
  },
  {
   "cell_type": "code",
   "execution_count": 11,
   "metadata": {},
   "outputs": [
    {
     "name": "stdout",
     "output_type": "stream",
     "text": [
      "COVID-19 Lab test | COVID-19\n",
      "\n",
      "a location other than this VA | EXTERNAL_LOCATION\n",
      "\n",
      "March 3, 2021 \n",
      "     | DATE\n",
      "\n",
      "Covid | COVID-19\n",
      "\n",
      "last week | DATE\n",
      "\n",
      "covid (+) | COVID-19\n",
      "\n",
      "this morning | TIME\n",
      "\n",
      "COVID-19 | COVID-19\n",
      "\n",
      "a location other than this VA | EXTERNAL_LOCATION\n",
      "\n",
      "March 4, 2021 \n",
      "     | DATE\n",
      "\n",
      "covid | COVID-19\n",
      "\n",
      "community location | EXTERNAL_LOCATION\n",
      "\n",
      "1 week ago | DATE\n",
      "\n",
      "COVID | COVID-19\n",
      "\n",
      "2/8/2021 | DATE\n",
      "\n",
      "an urgent care | EXTERNAL_LOCATION\n",
      "\n",
      "Apr 14,2020 | DATE\n",
      "\n",
      "COVID-19 lab test | COVID-19\n",
      "\n"
     ]
    }
   ],
   "source": [
    "for ent in doc.ents:\n",
    "    print(ent, ent.label_, sep = \" | \")\n",
    "    print()"
   ]
  },
  {
   "cell_type": "markdown",
   "metadata": {},
   "source": [
    "## Old - using target rules"
   ]
  },
  {
   "cell_type": "code",
   "execution_count": 2,
   "metadata": {},
   "outputs": [],
   "source": [
    "#nlp2 = cov_bsv.load(enable=[\"tagger\", \"parser\"], load_rules=False) \n",
    "\n",
    "nlp2 = cov_bsv.load(disable=['concept_tagger','target_matcher','sectionizer','ner','document_classifier'], load_rules=False)"
   ]
  },
  {
   "cell_type": "code",
   "execution_count": 10,
   "metadata": {},
   "outputs": [
    {
     "data": {
      "text/plain": [
       "medspacy.target_matcher.target_matcher.TargetMatcher"
      ]
     },
     "execution_count": 10,
     "metadata": {},
     "output_type": "execute_result"
    }
   ],
   "source": [
    "target_matcher = TargetMatcher(nlp2)\n",
    "#nlp2.add_pipe(target_matcher)\n",
    "type(target_matcher)"
   ]
  },
  {
   "cell_type": "code",
   "execution_count": 4,
   "metadata": {},
   "outputs": [],
   "source": [
    "target_rules = [\n",
    "   TargetRule(literal=\"month day, year\", category=\"DATE\",\n",
    "              pattern=[{\"LOWER\": {\"IN\": [\"january\",\"february\",\"march\",\"april\",\"may\",\"june\",\"july\",\"august\",\"september\",\"october\",\"november\",\"december\",\"jan\",\"feb\",\"mar\",\"apr\",\"may\",\"jun\",\"jul\",\"aug\",\"sept\",\"oct\",\"nov\",\"dec\"]}},{\"IS_DIGIT\": True, \"LENGTH\": 2},{\"ORTH\": \",\", \"OP\": \"?\"},{\"IS_DIGIT\": True, \"LENGTH\": 4, \"OP\": \"?\"}]),\n",
    "    TargetRule(literal=\"day month,year\", category=\"DATE\",\n",
    "              pattern=[{\"LOWER\": {\"IN\": [\"january\",\"february\",\"march\",\"april\",\"may\",\"june\",\"july\",\"august\",\"september\",\"october\",\"november\",\"december\",\"jan\",\"feb\",\"mar\",\"apr\",\"may\",\"jun\",\"jul\",\"aug\",\"sept\",\"oct\",\"nov\",\"dec\"]}},{\"LOWER\": {\"REGEX\": \"\\d{1,2},\\d{2,4}\"}}]),\n",
    "    TargetRule(literal=\"dd/mm/yyyy or yyyy/mm/dd\", category=\"DATE\",\n",
    "              pattern=[{\"LOWER\": {\"REGEX\": \"\\d{1,4}(\\\\|-|/)\\d{1,2}(\\\\|-|/)\\d{1,4}$\"}}]),\n",
    "    TargetRule(literal=\"on dd/yyyy\", category=\"DATE\",\n",
    "              pattern=[{\"LOWER\": \"on\"},{\"LOWER\": {\"REGEX\": \"\\d{1,2}(\\\\|-|/)\\d{1,4}$\"}}]),\n",
    "    TargetRule(literal=\"dd-mm-yyyy\", category=\"DATE\",\n",
    "              pattern=[{\"IS_DIGIT\": True, \"LENGTH\": 2},{\"ORTH\": {\"IN\": [\"-\",\"/\"]}},{\"IS_DIGIT\": True, \"LENGTH\": 2},{\"ORTH\": {\"IN\": [\"-\",\"/\"]}},{\"IS_DIGIT\": True, \"LENGTH\": 4}]),\n",
    "    TargetRule(literal=\"dd-mm-yy\", category=\"DATE\",\n",
    "              pattern=[{\"IS_DIGIT\": True, \"LENGTH\": 2},{\"ORTH\": {\"IN\": [\"-\",\"/\"]}},{\"IS_DIGIT\": True, \"LENGTH\": 2},{\"ORTH\": {\"IN\": [\"-\",\"/\"]}},{\"IS_DIGIT\": True, \"LENGTH\": 2}]),\n",
    "    TargetRule(literal=\"yyyy-dd-mm\", category=\"DATE\",\n",
    "              pattern=[{\"IS_DIGIT\": True, \"LENGTH\": 4},{\"ORTH\": {\"IN\": [\"-\",\"/\"]}},{\"IS_DIGIT\": True, \"LENGTH\": 2},{\"ORTH\": {\"IN\": [\"-\",\"/\"]}},{\"IS_DIGIT\": True, \"LENGTH\": 2}]),\n",
    "    TargetRule(literal=\"dd/mm@tttt\", category=\"DATETIME\",\n",
    "              pattern=[{\"LOWER\": {\"REGEX\": \"\\d{1,2}(\\\\|-|/)\\d{1,2}@\\d{2,4}$\"}}])\n",
    "]\n",
    "\n",
    "target_matcher.add(target_rules)"
   ]
  },
  {
   "cell_type": "code",
   "execution_count": 4,
   "metadata": {},
   "outputs": [],
   "source": [
    "dates = \"\"\"435-908-7890\n",
    "5/5/2020\n",
    "March 23, 2020\n",
    "Apr 26,2020\n",
    "Jul 22 \n",
    "3/23/20\n",
    "11\\15\\21\n",
    "10-18-20\n",
    "4/14: some event\n",
    "Covid negative 4/18@1357\"\"\""
   ]
  },
  {
   "cell_type": "code",
   "execution_count": 5,
   "metadata": {},
   "outputs": [
    {
     "data": {
      "text/html": [
       "<h2>Document Classification: NEG</h2><div class=\"entities\" style=\"line-height: 2.5; direction: ltr\">435-908-7890</br>\n",
       "<mark class=\"entity\" style=\"background: #2ca02c; padding: 0.45em 0.6em; margin: 0 0.25em; line-height: 1; border-radius: 0.35em;\">\n",
       "    5/5/2020\n",
       "    <span style=\"font-size: 0.8em; font-weight: bold; line-height: 1; border-radius: 0.35em; text-transform: uppercase; vertical-align: middle; margin-left: 0.5rem\">DATE</span>\n",
       "</mark>\n",
       "</br>\n",
       "<mark class=\"entity\" style=\"background: #2ca02c; padding: 0.45em 0.6em; margin: 0 0.25em; line-height: 1; border-radius: 0.35em;\">\n",
       "    March 23, 2020\n",
       "    <span style=\"font-size: 0.8em; font-weight: bold; line-height: 1; border-radius: 0.35em; text-transform: uppercase; vertical-align: middle; margin-left: 0.5rem\">DATE</span>\n",
       "</mark>\n",
       "</br>Apr 26,2020</br>\n",
       "<mark class=\"entity\" style=\"background: #2ca02c; padding: 0.45em 0.6em; margin: 0 0.25em; line-height: 1; border-radius: 0.35em;\">\n",
       "    Jul 22\n",
       "    <span style=\"font-size: 0.8em; font-weight: bold; line-height: 1; border-radius: 0.35em; text-transform: uppercase; vertical-align: middle; margin-left: 0.5rem\">DATE</span>\n",
       "</mark>\n",
       " </br>\n",
       "<mark class=\"entity\" style=\"background: #2ca02c; padding: 0.45em 0.6em; margin: 0 0.25em; line-height: 1; border-radius: 0.35em;\">\n",
       "    3/23/20\n",
       "    <span style=\"font-size: 0.8em; font-weight: bold; line-height: 1; border-radius: 0.35em; text-transform: uppercase; vertical-align: middle; margin-left: 0.5rem\">DATE</span>\n",
       "</mark>\n",
       "</br>11\r",
       "\u0011</br>\n",
       "<mark class=\"entity\" style=\"background: #2ca02c; padding: 0.45em 0.6em; margin: 0 0.25em; line-height: 1; border-radius: 0.35em;\">\n",
       "    10-18-20\n",
       "    <span style=\"font-size: 0.8em; font-weight: bold; line-height: 1; border-radius: 0.35em; text-transform: uppercase; vertical-align: middle; margin-left: 0.5rem\">DATE</span>\n",
       "</mark>\n",
       "</br>4/14: some event</br>\n",
       "<mark class=\"entity\" style=\"background: #ff7f0e; padding: 0.45em 0.6em; margin: 0 0.25em; line-height: 1; border-radius: 0.35em;\">\n",
       "    Covid\n",
       "    <span style=\"font-size: 0.8em; font-weight: bold; line-height: 1; border-radius: 0.35em; text-transform: uppercase; vertical-align: middle; margin-left: 0.5rem\">COVID-19</span>\n",
       "</mark>\n",
       " \n",
       "<mark class=\"entity\" style=\"background: #1f77b4; padding: 0.45em 0.6em; margin: 0 0.25em; line-height: 1; border-radius: 0.35em;\">\n",
       "    negative\n",
       "    <span style=\"font-size: 0.8em; font-weight: bold; line-height: 1; border-radius: 0.35em; text-transform: uppercase; vertical-align: middle; margin-left: 0.5rem\">NEGATED_EXISTENCE</span>\n",
       "</mark>\n",
       " \n",
       "<mark class=\"entity\" style=\"background: #2ca02c; padding: 0.45em 0.6em; margin: 0 0.25em; line-height: 1; border-radius: 0.35em;\">\n",
       "    4/18@1357\n",
       "    <span style=\"font-size: 0.8em; font-weight: bold; line-height: 1; border-radius: 0.35em; text-transform: uppercase; vertical-align: middle; margin-left: 0.5rem\">DATE</span>\n",
       "</mark>\n",
       "</div>"
      ],
      "text/plain": [
       "<IPython.core.display.HTML object>"
      ]
     },
     "metadata": {},
     "output_type": "display_data"
    }
   ],
   "source": [
    "#text = \"\"\"Patient tested negative for novel coronavirus on 02 Apr 20, and positive for covid-19 on May 5, 2020.\"\"\"\n",
    "doc = nlp(dates)\n",
    "cov_bsv.visualize_doc(doc)"
   ]
  },
  {
   "cell_type": "code",
   "execution_count": 7,
   "metadata": {},
   "outputs": [
    {
     "name": "stdout",
     "output_type": "stream",
     "text": [
      "5/5/2020 -> DATE\n",
      "March 23, 2020 -> DATE\n",
      "Jul 22 -> DATE\n",
      "3/23/20 -> DATE\n",
      "10-18-20 -> DATE\n",
      "Covid -> COVID-19\n",
      "4/18@1357 -> DATE\n"
     ]
    }
   ],
   "source": [
    "for ent in doc.ents:\n",
    "    print(ent.text, ent.label_, sep=\" -> \")"
   ]
  },
  {
   "cell_type": "markdown",
   "metadata": {},
   "source": [
    "### Example of the difference between the default spaCy and the medspaCy tokenizers"
   ]
  },
  {
   "cell_type": "code",
   "execution_count": 3,
   "metadata": {},
   "outputs": [
    {
     "name": "stdout",
     "output_type": "stream",
     "text": [
      "spacy tokenizer:\n",
      "[Jul, 22,2020]\n",
      "\n",
      "\n",
      "medspacy tokenizer:\n",
      "[Jul, 22, ,, 2020]\n"
     ]
    }
   ],
   "source": [
    "from medspacy.custom_tokenizer import create_medspacy_tokenizer\n",
    "\n",
    "nlp = spacy.blank(\"en\")\n",
    "\n",
    "medspacy_tokenizer = create_medspacy_tokenizer(nlp)\n",
    "default_tokenizer = nlp.tokenizer\n",
    "\n",
    "example = r'Jul 22,2020' #r'10-18-20 435-908-7890' #r'December(23rd)'  #r'Pt c/o n;v;d h/o chf+cp'\n",
    "\n",
    "print(\"spacy tokenizer:\")\n",
    "print(list(default_tokenizer(example)))\n",
    "print('\\n')\n",
    "print(\"medspacy tokenizer:\")\n",
    "print(list(medspacy_tokenizer(example)))\n",
    "#for ent in doc.ents:\n",
    "    #print(ent.text, ent.label_, sep=\" -> \")"
   ]
  },
  {
   "cell_type": "code",
   "execution_count": null,
   "metadata": {},
   "outputs": [],
   "source": []
  }
 ],
 "metadata": {
  "kernelspec": {
   "display_name": "Python 3",
   "language": "python",
   "name": "python3"
  },
  "language_info": {
   "codemirror_mode": {
    "name": "ipython",
    "version": 3
   },
   "file_extension": ".py",
   "mimetype": "text/x-python",
   "name": "python",
   "nbconvert_exporter": "python",
   "pygments_lexer": "ipython3",
   "version": "3.8.5"
  }
 },
 "nbformat": 4,
 "nbformat_minor": 4
}
